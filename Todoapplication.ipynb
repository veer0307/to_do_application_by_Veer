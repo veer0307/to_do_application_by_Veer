{
  "nbformat": 4,
  "nbformat_minor": 0,
  "metadata": {
    "colab": {
      "provenance": []
    },
    "kernelspec": {
      "name": "python3",
      "display_name": "Python 3"
    },
    "language_info": {
      "name": "python"
    }
  },
  "cells": [
    {
      "cell_type": "code",
      "execution_count": 15,
      "metadata": {
        "id": "ocOao7oMDmNp"
      },
      "outputs": [],
      "source": [
        "def view_task(tasks):\n",
        "  if not tasks:\n",
        "    print(\"no tasks in the list\")\n",
        "  else:\n",
        "    print(\"\\n to do list\")\n",
        "    for idx, task in enumerate(tasks, start=1):\n",
        "            status = \"✓\" if task['completed'] else \"✗\"\n",
        "            print(f\"{idx}. {task['task']} [{status}]\")"
      ]
    },
    {
      "cell_type": "code",
      "source": [
        "def add_task(tasks):\n",
        "  task=input(\"Enter your task: \")\n",
        "  tasks.append({\"Task\":task,\"completed\":False})\n",
        "  print(\"task added\")\n"
      ],
      "metadata": {
        "id": "k7I1j8RTEq99"
      },
      "execution_count": 16,
      "outputs": []
    },
    {
      "cell_type": "code",
      "source": [
        "def marktaskcompleted(tasks):\n",
        "  view_task(tasks)\n",
        "  try:\n",
        "    task_num=int(input(\"enter your task number: \"))-1\n",
        "    if 0<=task_num<=len(tasks):\n",
        "      tasks[task_num][\"completed\"]=True\n",
        "    else:\n",
        "      print(\"Invalid task number\")\n",
        "  except ValueError:\n",
        "    print(\"invalid input, Enter a number\")\n"
      ],
      "metadata": {
        "id": "zk0etlauFSQa"
      },
      "execution_count": 17,
      "outputs": []
    },
    {
      "cell_type": "code",
      "source": [
        "def remove_task(tasks):\n",
        "  view_task(tasks)\n",
        "  try:\n",
        "    task_num=int(input(\"enter your task number to remove: \"))-1\n",
        "    if 0<=task_num<=len(tasks):\n",
        "      removed_task=tasks.pop(task_num)\n",
        "      print(f\"removed task: {removed_task['task']}\")\n",
        "    else:\n",
        "      print(\"Invalid task number\")\n",
        "  except ValueError:\n",
        "    print(\"invalid input, Enter a number\")"
      ],
      "metadata": {
        "id": "TcKVy4DoHI3z"
      },
      "execution_count": 18,
      "outputs": []
    },
    {
      "cell_type": "code",
      "source": [
        "def display_menu():\n",
        "    print(\"\\nTo-Do List Menu:\")\n",
        "    print(\"1. View tasks\")\n",
        "    print(\"2. Add task\")\n",
        "    print(\"3. Mark task as completed\")\n",
        "    print(\"4. Remove task\")\n",
        "    print(\"5. Exit\")"
      ],
      "metadata": {
        "id": "cD33CiBeIRjN"
      },
      "execution_count": 19,
      "outputs": []
    },
    {
      "cell_type": "code",
      "source": [
        "tasks=[]\n",
        "def main():\n",
        "  while True:\n",
        "    display_menu()\n",
        "    choice=input(\"Enter your choice: \")\n",
        "    if choice==\"1\":\n",
        "      view_task(tasks)\n",
        "    elif choice==\"2\":\n",
        "      add_task(tasks)\n",
        "    elif choice==\"3\":\n",
        "      marktaskcompleted(tasks)\n",
        "    elif choice==\"4\":\n",
        "      remove_task(tasks)\n",
        "    elif choice==\"5\":\n",
        "      print(\"Exiting the application\")\n",
        "      break\n",
        "    else:\n",
        "      print(\"Invalid choice\")\n",
        "\n",
        "\n",
        "main()\n",
        "\n",
        "\n",
        ""
      ],
      "metadata": {
        "colab": {
          "base_uri": "https://localhost:8080/",
          "height": 842
        },
        "id": "6IEf7TVqIYIC",
        "outputId": "22b83fe7-ca10-45ec-8a36-6d18a2d8018a"
      },
      "execution_count": 20,
      "outputs": [
        {
          "output_type": "stream",
          "name": "stdout",
          "text": [
            "\n",
            "To-Do List Menu:\n",
            "1. View tasks\n",
            "2. Add task\n",
            "3. Mark task as completed\n",
            "4. Remove task\n",
            "5. Exit\n",
            "Enter your choice: 2\n",
            "Enter your task: cricket\n",
            "task added\n",
            "\n",
            "To-Do List Menu:\n",
            "1. View tasks\n",
            "2. Add task\n",
            "3. Mark task as completed\n",
            "4. Remove task\n",
            "5. Exit\n",
            "Enter your choice: 2\n",
            "Enter your task: class\n",
            "task added\n",
            "\n",
            "To-Do List Menu:\n",
            "1. View tasks\n",
            "2. Add task\n",
            "3. Mark task as completed\n",
            "4. Remove task\n",
            "5. Exit\n",
            "Enter your choice: 1\n",
            "\n",
            " to do list\n"
          ]
        },
        {
          "output_type": "error",
          "ename": "KeyError",
          "evalue": "'task'",
          "traceback": [
            "\u001b[0;31m---------------------------------------------------------------------------\u001b[0m",
            "\u001b[0;31mKeyError\u001b[0m                                  Traceback (most recent call last)",
            "\u001b[0;32m<ipython-input-20-28e3f135b06b>\u001b[0m in \u001b[0;36m<cell line: 21>\u001b[0;34m()\u001b[0m\n\u001b[1;32m     19\u001b[0m \u001b[0;34m\u001b[0m\u001b[0m\n\u001b[1;32m     20\u001b[0m \u001b[0;34m\u001b[0m\u001b[0m\n\u001b[0;32m---> 21\u001b[0;31m \u001b[0mmain\u001b[0m\u001b[0;34m(\u001b[0m\u001b[0;34m)\u001b[0m\u001b[0;34m\u001b[0m\u001b[0;34m\u001b[0m\u001b[0m\n\u001b[0m\u001b[1;32m     22\u001b[0m \u001b[0;34m\u001b[0m\u001b[0m\n\u001b[1;32m     23\u001b[0m \u001b[0;34m\u001b[0m\u001b[0m\n",
            "\u001b[0;32m<ipython-input-20-28e3f135b06b>\u001b[0m in \u001b[0;36mmain\u001b[0;34m()\u001b[0m\n\u001b[1;32m      5\u001b[0m     \u001b[0mchoice\u001b[0m\u001b[0;34m=\u001b[0m\u001b[0minput\u001b[0m\u001b[0;34m(\u001b[0m\u001b[0;34m\"Enter your choice: \"\u001b[0m\u001b[0;34m)\u001b[0m\u001b[0;34m\u001b[0m\u001b[0;34m\u001b[0m\u001b[0m\n\u001b[1;32m      6\u001b[0m     \u001b[0;32mif\u001b[0m \u001b[0mchoice\u001b[0m\u001b[0;34m==\u001b[0m\u001b[0;34m\"1\"\u001b[0m\u001b[0;34m:\u001b[0m\u001b[0;34m\u001b[0m\u001b[0;34m\u001b[0m\u001b[0m\n\u001b[0;32m----> 7\u001b[0;31m       \u001b[0mview_task\u001b[0m\u001b[0;34m(\u001b[0m\u001b[0mtasks\u001b[0m\u001b[0;34m)\u001b[0m\u001b[0;34m\u001b[0m\u001b[0;34m\u001b[0m\u001b[0m\n\u001b[0m\u001b[1;32m      8\u001b[0m     \u001b[0;32melif\u001b[0m \u001b[0mchoice\u001b[0m\u001b[0;34m==\u001b[0m\u001b[0;34m\"2\"\u001b[0m\u001b[0;34m:\u001b[0m\u001b[0;34m\u001b[0m\u001b[0;34m\u001b[0m\u001b[0m\n\u001b[1;32m      9\u001b[0m       \u001b[0madd_task\u001b[0m\u001b[0;34m(\u001b[0m\u001b[0mtasks\u001b[0m\u001b[0;34m)\u001b[0m\u001b[0;34m\u001b[0m\u001b[0;34m\u001b[0m\u001b[0m\n",
            "\u001b[0;32m<ipython-input-15-846c6992026b>\u001b[0m in \u001b[0;36mview_task\u001b[0;34m(tasks)\u001b[0m\n\u001b[1;32m      6\u001b[0m     \u001b[0;32mfor\u001b[0m \u001b[0midx\u001b[0m\u001b[0;34m,\u001b[0m \u001b[0mtask\u001b[0m \u001b[0;32min\u001b[0m \u001b[0menumerate\u001b[0m\u001b[0;34m(\u001b[0m\u001b[0mtasks\u001b[0m\u001b[0;34m,\u001b[0m \u001b[0mstart\u001b[0m\u001b[0;34m=\u001b[0m\u001b[0;36m1\u001b[0m\u001b[0;34m)\u001b[0m\u001b[0;34m:\u001b[0m\u001b[0;34m\u001b[0m\u001b[0;34m\u001b[0m\u001b[0m\n\u001b[1;32m      7\u001b[0m             \u001b[0mstatus\u001b[0m \u001b[0;34m=\u001b[0m \u001b[0;34m\"✓\"\u001b[0m \u001b[0;32mif\u001b[0m \u001b[0mtask\u001b[0m\u001b[0;34m[\u001b[0m\u001b[0;34m'completed'\u001b[0m\u001b[0;34m]\u001b[0m \u001b[0;32melse\u001b[0m \u001b[0;34m\"✗\"\u001b[0m\u001b[0;34m\u001b[0m\u001b[0;34m\u001b[0m\u001b[0m\n\u001b[0;32m----> 8\u001b[0;31m             \u001b[0mprint\u001b[0m\u001b[0;34m(\u001b[0m\u001b[0;34mf\"{idx}. {task['task']} [{status}]\"\u001b[0m\u001b[0;34m)\u001b[0m\u001b[0;34m\u001b[0m\u001b[0;34m\u001b[0m\u001b[0m\n\u001b[0m",
            "\u001b[0;31mKeyError\u001b[0m: 'task'"
          ]
        }
      ]
    },
    {
      "cell_type": "code",
      "source": [
        "def display_menu():\n",
        "    print(\"\\nTo-Do List Menu:\")\n",
        "    print(\"1. View tasks\")\n",
        "    print(\"2. Add task\")\n",
        "    print(\"3. Mark task as completed\")\n",
        "    print(\"4. Remove task\")\n",
        "    print(\"5. Exit\")\n",
        "\n",
        "def view_tasks(tasks):\n",
        "    if not tasks:\n",
        "        print(\"No tasks in the list.\")\n",
        "    else:\n",
        "        print(\"\\nTo-Do List:\")\n",
        "        for idx, task in enumerate(tasks, start=1):\n",
        "            status = \"✓\" if task['completed'] else \"✗\"\n",
        "            print(f\"{idx}. {task['task']} [{status}]\")\n",
        "\n",
        "def add_task(tasks):\n",
        "    task = input(\"Enter the task: \")\n",
        "    tasks.append({\"task\": task, \"completed\": False})\n",
        "    print(\"Task added.\")\n",
        "\n",
        "def mark_task_completed(tasks):\n",
        "    view_tasks(tasks)\n",
        "    try:\n",
        "        task_num = int(input(\"Enter the task number to mark as completed: \")) - 1\n",
        "        if 0 <= task_num < len(tasks):\n",
        "            tasks[task_num]['completed'] = True\n",
        "            print(\"Task marked as completed.\")\n",
        "        else:\n",
        "            print(\"Invalid task number.\")\n",
        "    except ValueError:\n",
        "        print(\"Invalid input. Please enter a number.\")\n",
        "\n",
        "def remove_task(tasks):\n",
        "    view_tasks(tasks)\n",
        "    try:\n",
        "        task_num = int(input(\"Enter the task number to remove: \")) - 1\n",
        "        if 0 <= task_num < len(tasks):\n",
        "            removed_task = tasks.pop(task_num)\n",
        "            print(f\"Removed task: {removed_task['task']}\")\n",
        "        else:\n",
        "            print(\"Invalid task number.\")\n",
        "    except ValueError:\n",
        "        print(\"Invalid input. Please enter a number.\")\n",
        "\n",
        "# Initialize the to-do list\n",
        "tasks = []\n",
        "\n",
        "# Main loop to interact with the to-do list\n",
        "def main():\n",
        "    while True:\n",
        "        display_menu()\n",
        "        choice = input(\"Enter your choice: \")\n",
        "\n",
        "        if choice == '1':\n",
        "            view_tasks(tasks)\n",
        "        elif choice == '2':\n",
        "            add_task(tasks)\n",
        "        elif choice == '3':\n",
        "            mark_task_completed(tasks)\n",
        "        elif choice == '4':\n",
        "            remove_task(tasks)\n",
        "        elif choice == '5':\n",
        "            print(\"Exiting the to-do list application.\")\n",
        "            break\n",
        "        else:\n",
        "            print(\"Invalid choice. Please try again.\")\n",
        "\n",
        "# Start the main loop\n",
        "main()\n"
      ],
      "metadata": {
        "colab": {
          "base_uri": "https://localhost:8080/"
        },
        "id": "a7TTS74ALdw5",
        "outputId": "de70ca39-7714-4104-bb73-5a1a839570c4"
      },
      "execution_count": 21,
      "outputs": [
        {
          "output_type": "stream",
          "name": "stdout",
          "text": [
            "\n",
            "To-Do List Menu:\n",
            "1. View tasks\n",
            "2. Add task\n",
            "3. Mark task as completed\n",
            "4. Remove task\n",
            "5. Exit\n",
            "Enter your choice: 2\n",
            "Enter the task: cricket\n",
            "Task added.\n",
            "\n",
            "To-Do List Menu:\n",
            "1. View tasks\n",
            "2. Add task\n",
            "3. Mark task as completed\n",
            "4. Remove task\n",
            "5. Exit\n",
            "Enter your choice: 1\n",
            "\n",
            "To-Do List:\n",
            "1. cricket [✗]\n",
            "\n",
            "To-Do List Menu:\n",
            "1. View tasks\n",
            "2. Add task\n",
            "3. Mark task as completed\n",
            "4. Remove task\n",
            "5. Exit\n",
            "Enter your choice: 3\n",
            "\n",
            "To-Do List:\n",
            "1. cricket [✗]\n",
            "Enter the task number to mark as completed: 1\n",
            "Task marked as completed.\n",
            "\n",
            "To-Do List Menu:\n",
            "1. View tasks\n",
            "2. Add task\n",
            "3. Mark task as completed\n",
            "4. Remove task\n",
            "5. Exit\n",
            "Enter your choice: 1\n",
            "\n",
            "To-Do List:\n",
            "1. cricket [✓]\n",
            "\n",
            "To-Do List Menu:\n",
            "1. View tasks\n",
            "2. Add task\n",
            "3. Mark task as completed\n",
            "4. Remove task\n",
            "5. Exit\n",
            "Enter your choice: 4\n",
            "\n",
            "To-Do List:\n",
            "1. cricket [✓]\n",
            "Enter the task number to remove: 1\n",
            "Removed task: cricket\n",
            "\n",
            "To-Do List Menu:\n",
            "1. View tasks\n",
            "2. Add task\n",
            "3. Mark task as completed\n",
            "4. Remove task\n",
            "5. Exit\n",
            "Enter your choice: 1\n",
            "No tasks in the list.\n",
            "\n",
            "To-Do List Menu:\n",
            "1. View tasks\n",
            "2. Add task\n",
            "3. Mark task as completed\n",
            "4. Remove task\n",
            "5. Exit\n",
            "Enter your choice: 5\n",
            "Exiting the to-do list application.\n"
          ]
        }
      ]
    }
  ]
}